{
 "cells": [
  {
   "cell_type": "code",
   "execution_count": 92,
   "id": "a4d97c5d",
   "metadata": {},
   "outputs": [],
   "source": [
    "import os\n",
    "import csv"
   ]
  },
  {
   "cell_type": "code",
   "execution_count": 93,
   "id": "095fa46b",
   "metadata": {},
   "outputs": [],
   "source": [
    "# Set path for file\n",
    "csvpath = os.path.join(\"Resources\", \"election_data.csv\")"
   ]
  },
  {
   "cell_type": "code",
   "execution_count": 94,
   "id": "e200e2d7",
   "metadata": {},
   "outputs": [],
   "source": [
    "total_votes = 0\n",
    "candidate_list = []\n",
    "candidate_dictionary = {}\n",
    "percentage_dice = {}"
   ]
  },
  {
   "cell_type": "code",
   "execution_count": 95,
   "id": "beef1915",
   "metadata": {},
   "outputs": [],
   "source": [
    "# Open the CSV\n",
    "with open(csvpath) as csvfile:\n",
    "    csvreader = csv.reader(csvfile, delimiter=\",\")\n",
    "    \n",
    "    header = next(csvreader)\n",
    "\n",
    "    # Loop through updating variable values\n",
    "    for row in csvreader:\n",
    "\n",
    "        total_votes += 1\n",
    "\n",
    "        candidate_name = row[2]\n",
    "        if candidate_name not in candidate_list:\n",
    "            candidate_list.append(candidate_name)\n",
    "            candidate_dictionary[candidate_name] = 0\n",
    "\n",
    "        candidate_dictionary[candidate_name] +=1\n",
    "\n",
    "    #percentage_dict = {((candidate_dictionary[candidate_name])/total_votes)*100)}\n",
    "    percentage_dict = {key: round((value / total_votes)*100,2) for key, value in candidate_dictionary.items()}\n",
    "\n",
    "    max_dict = max(candidate_dictionary, key=candidate_dictionary.get)\n",
    "    \n",
    "    \n",
    "\n",
    "    output = (f\"Election Results\\n\"\n",
    "    f\"-------------------------\\n\"\n",
    "        f\"Total Votes: {total_votes}\\n\"\n",
    "        f\"The candidates running are {candidate_list}\\n\"\n",
    "        f\"Total votes by candidate {candidate_dictionary}\\n\"\n",
    "        f\"Percentage votes by candidate {(percentage_dict)}\\n\"\n",
    "        f\"The winner is {max_dict}\")"
   ]
  },
  {
   "cell_type": "code",
   "execution_count": 96,
   "id": "6c0c5ab5",
   "metadata": {},
   "outputs": [
    {
     "name": "stdout",
     "output_type": "stream",
     "text": [
      "Election Results\n",
      "-------------------------\n",
      "Total Votes: 369711\n",
      "The candidates running are ['Charles Casper Stockham', 'Diana DeGette', 'Raymon Anthony Doane']\n",
      "Total votes by candidate {'Charles Casper Stockham': 85213, 'Diana DeGette': 272892, 'Raymon Anthony Doane': 11606}\n",
      "Percentage votes by candidate {'Charles Casper Stockham': 23.05, 'Diana DeGette': 73.81, 'Raymon Anthony Doane': 3.14}\n",
      "The winner is Diana DeGette\n"
     ]
    }
   ],
   "source": [
    "print(output)\n",
    "\n",
    "output_path = os.path.join(\"analysis\", \"financial_analysis.txt\")\n",
    "\n",
    "with open(output_path, \"w\") as output_text:\n",
    "    output_text.write(output)"
   ]
  },
  {
   "cell_type": "code",
   "execution_count": null,
   "id": "31ac2bab",
   "metadata": {},
   "outputs": [],
   "source": []
  },
  {
   "cell_type": "code",
   "execution_count": null,
   "id": "72fb2e8e",
   "metadata": {},
   "outputs": [],
   "source": []
  }
 ],
 "metadata": {
  "kernelspec": {
   "display_name": "PythonData",
   "language": "python",
   "name": "pythondata"
  },
  "language_info": {
   "codemirror_mode": {
    "name": "ipython",
    "version": 3
   },
   "file_extension": ".py",
   "mimetype": "text/x-python",
   "name": "python",
   "nbconvert_exporter": "python",
   "pygments_lexer": "ipython3",
   "version": "3.7.7"
  }
 },
 "nbformat": 4,
 "nbformat_minor": 5
}
