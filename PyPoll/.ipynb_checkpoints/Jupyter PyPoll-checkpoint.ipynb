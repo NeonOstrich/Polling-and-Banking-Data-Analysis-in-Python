{
 "cells": [
  {
   "cell_type": "code",
   "execution_count": 80,
   "id": "a4d97c5d",
   "metadata": {},
   "outputs": [],
   "source": [
    "import os\n",
    "import csv"
   ]
  },
  {
   "cell_type": "code",
   "execution_count": 81,
   "id": "095fa46b",
   "metadata": {},
   "outputs": [],
   "source": [
    "# Set path for file\n",
    "csvpath = os.path.join(\"Resources\", \"election_data.csv\")"
   ]
  },
  {
   "cell_type": "code",
   "execution_count": 82,
   "id": "e200e2d7",
   "metadata": {},
   "outputs": [],
   "source": [
    "total_votes = 0\n",
    "candidate_list = []\n",
    "candidate_dictionary = {}"
   ]
  },
  {
   "cell_type": "code",
   "execution_count": 83,
   "id": "beef1915",
   "metadata": {},
   "outputs": [
    {
     "name": "stdout",
     "output_type": "stream",
     "text": [
      "Election Results\n",
      "-------------------------\n",
      "Total Votes: 369711\n",
      "The candidates running are ['Charles Casper Stockham', 'Diana DeGette', 'Raymon Anthony Doane']\n",
      "Total votes by candidate {'Charles Casper Stockham': 85213, 'Diana DeGette': 272892, 'Raymon Anthony Doane': 11606}\n",
      "Percentage votes by candidate {'Charles Casper Stockham': 23.04854332167558, 'Diana DeGette': 73.81224794501652, 'Raymon Anthony Doane': 3.1392087333079077}\n",
      "The winner is 272892\n"
     ]
    }
   ],
   "source": [
    "# Open the CSV\n",
    "with open(csvpath) as csvfile:\n",
    "    csvreader = csv.reader(csvfile, delimiter=\",\")\n",
    "    \n",
    "    header = next(csvreader)\n",
    "\n",
    "    # Loop through updating variable values\n",
    "    for row in csvreader:\n",
    "\n",
    "        total_votes += 1\n",
    "\n",
    "        candidate_name = row[2]\n",
    "        if candidate_name not in candidate_list:\n",
    "            candidate_list.append(candidate_name)\n",
    "            candidate_dictionary[candidate_name] = 0\n",
    "\n",
    "        candidate_dictionary[candidate_name] +=1\n",
    "\n",
    "    # percentage_dict = candidate_dictionary.value/total_votes\n",
    "    percentage_dict = {key: (value / total_votes)*100 for key, value in candidate_dictionary.items()}\n",
    "    # perc_dict = {percentage_dict:.3f}%\n",
    "    max_dict = max(candidate_dictionary.values())\n",
    "\n",
    "    print(f\"Election Results\")\n",
    "    print(f\"-------------------------\")\n",
    "    print(f\"Total Votes: {total_votes}\")\n",
    "    print(f\"The candidates running are {candidate_list}\")\n",
    "    print(f\"Total votes by candidate {candidate_dictionary}\")\n",
    "    print(f\"Percentage votes by candidate {percentage_dict}\")\n",
    "    print(f\"The winner is {max_dict}\")"
   ]
  },
  {
   "cell_type": "code",
   "execution_count": null,
   "id": "6c0c5ab5",
   "metadata": {},
   "outputs": [],
   "source": []
  },
  {
   "cell_type": "code",
   "execution_count": null,
   "id": "31ac2bab",
   "metadata": {},
   "outputs": [],
   "source": []
  },
  {
   "cell_type": "code",
   "execution_count": null,
   "id": "72fb2e8e",
   "metadata": {},
   "outputs": [],
   "source": []
  }
 ],
 "metadata": {
  "kernelspec": {
   "display_name": "PythonData",
   "language": "python",
   "name": "pythondata"
  },
  "language_info": {
   "codemirror_mode": {
    "name": "ipython",
    "version": 3
   },
   "file_extension": ".py",
   "mimetype": "text/x-python",
   "name": "python",
   "nbconvert_exporter": "python",
   "pygments_lexer": "ipython3",
   "version": "3.7.7"
  }
 },
 "nbformat": 4,
 "nbformat_minor": 5
}
