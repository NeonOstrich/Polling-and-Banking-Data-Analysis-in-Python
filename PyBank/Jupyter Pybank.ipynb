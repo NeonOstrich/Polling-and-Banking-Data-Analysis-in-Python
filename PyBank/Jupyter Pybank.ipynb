{
 "cells": [
  {
   "cell_type": "code",
   "execution_count": 1,
   "id": "6ca50000",
   "metadata": {},
   "outputs": [],
   "source": [
    "# Import modules\n",
    "import os\n",
    "import csv"
   ]
  },
  {
   "cell_type": "code",
   "execution_count": 2,
   "id": "26634498",
   "metadata": {},
   "outputs": [],
   "source": [
    "# Set path for file\n",
    "csvpath = os.path.join(\"Resources\", \"budget_data.csv\")"
   ]
  },
  {
   "cell_type": "code",
   "execution_count": 3,
   "id": "60af2274",
   "metadata": {},
   "outputs": [],
   "source": [
    "total_months = 0\n",
    "total_pc = 0\n",
    "change = 0\n",
    "greatest_increase = 0\n",
    "increase_date = 0\n",
    "greatest_decrease = 100000000000000\n",
    "decrease_date = 0"
   ]
  },
  {
   "cell_type": "code",
   "execution_count": 4,
   "id": "4920360e",
   "metadata": {},
   "outputs": [],
   "source": [
    "# Open the CSV\n",
    "with open(csvpath) as csvfile:\n",
    "    csvreader = csv.reader(csvfile, delimiter=\",\")\n",
    "    header = next(csvreader)\n",
    "\n",
    "    # Loop through updating variable values\n",
    "    for row in csvreader:\n",
    "        total_months += 1\n",
    "\n",
    "        total_pc += int(row[1])\n",
    "        if total_months > 1:\n",
    "            change += int(row[1]) - previous_bl\n",
    "       \n",
    "\n",
    "            if int(row[1]) - previous_bl > greatest_increase:\n",
    "                greatest_increase = int(row[1]) - previous_bl\n",
    "                increase_date = (str(row[0]))\n",
    "            \n",
    "            if int(row[1]) - previous_bl < greatest_decrease:\n",
    "                greatest_decrease = int(row[1]) - previous_bl\n",
    "                decrease_date = (str(row[0]))\n",
    "\n",
    "        previous_bl = int(row[1])\n",
    "\n",
    "    output = (f\"Financial Analysis\\n\"\n",
    "  f\"----------------------------\\n\"\n",
    "        f\"Total Months: {total_months}\\n\"\n",
    "f\"Total: ${total_pc}\\n\"\n",
    "f\"Average Change: ${round(change/(total_months-1),2)}\\n\"\n",
    "f\"Greatest Increase in Profits: {increase_date} (${greatest_increase})\\n\"\n",
    "f\"Greatest Decrease in Profits: {decrease_date} (${greatest_decrease})\")"
   ]
  },
  {
   "cell_type": "code",
   "execution_count": 5,
   "id": "f31972cd",
   "metadata": {},
   "outputs": [
    {
     "name": "stdout",
     "output_type": "stream",
     "text": [
      "Financial Analysis\n",
      "----------------------------\n",
      "Total Months: 86\n",
      "Total: $22564198\n",
      "Average Change: $-8311.11\n",
      "Greatest Increase in Profits: Aug-16 ($1862002)\n",
      "Greatest Decrease in Profits: Feb-14 ($-1825558)\n"
     ]
    }
   ],
   "source": [
    "print(output)\n",
    "\n",
    "output_path = os.path.join(\"analysis\", \"financial_analysis.txt\")\n",
    "\n",
    "with open(output_path, \"w\") as output_text:\n",
    "    output_text.write(output)"
   ]
  },
  {
   "cell_type": "code",
   "execution_count": null,
   "id": "61ff10ad",
   "metadata": {},
   "outputs": [],
   "source": []
  }
 ],
 "metadata": {
  "kernelspec": {
   "display_name": "PythonData",
   "language": "python",
   "name": "pythondata"
  },
  "language_info": {
   "codemirror_mode": {
    "name": "ipython",
    "version": 3
   },
   "file_extension": ".py",
   "mimetype": "text/x-python",
   "name": "python",
   "nbconvert_exporter": "python",
   "pygments_lexer": "ipython3",
   "version": "3.7.7"
  }
 },
 "nbformat": 4,
 "nbformat_minor": 5
}
